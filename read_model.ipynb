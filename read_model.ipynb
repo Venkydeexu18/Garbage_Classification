{
 "cells": [
  {
   "cell_type": "code",
   "execution_count": 5,
   "metadata": {},
   "outputs": [],
   "source": [
    "import os\n",
    "import torch\n",
    "import torch.nn as nn\n",
    "import torch.optim as optim\n",
    "from torch.utils.data import Dataset, DataLoader\n",
    "from torchvision import transforms\n",
    "from PIL import Image\n",
    "import pickle"
   ]
  },
  {
   "cell_type": "code",
   "execution_count": 6,
   "metadata": {},
   "outputs": [],
   "source": [
    "# Swin Transformer block\n",
    "class SwinTransformerBlock(nn.Module):\n",
    "    def __init__(self, in_channels, out_channels, num_heads=1):\n",
    "        super(SwinTransformerBlock, self).__init__()\n",
    "        self.attention = nn.MultiheadAttention(embed_dim=in_channels, num_heads=num_heads)\n",
    "        self.linear1 = nn.Linear(in_channels, out_channels)\n",
    "        self.linear2 = nn.Linear(out_channels, out_channels)\n",
    "        self.norm1 = nn.LayerNorm(out_channels)\n",
    "        self.norm2 = nn.LayerNorm(out_channels)\n",
    "\n",
    "    def forward(self, x):\n",
    "        x = x.view(x.size(0), -1, x.size(1))\n",
    "        attn_output, _ = self.attention(x, x, x)\n",
    "        x = self.linear1(attn_output)\n",
    "        x = self.norm1(x)\n",
    "        x = nn.functional.relu(x)\n",
    "        x = self.linear2(x)\n",
    "        x = self.norm2(x)\n",
    "        x = nn.functional.relu(x)\n",
    "        x = x.view(x.size(0), x.size(2), int(x.size(1) ** 0.5), int(x.size(1) ** 0.5))\n",
    "        return x\n",
    "\n",
    "# ConvNeXt block\n",
    "class ConvNeXtBlock(nn.Module):\n",
    "    def __init__(self, in_channels, out_channels):\n",
    "        super(ConvNeXtBlock, self).__init__()\n",
    "        self.conv = nn.Conv2d(in_channels, out_channels, kernel_size=3, stride=1, padding=1)\n",
    "        self.norm = nn.LayerNorm(out_channels)\n",
    "        self.linear = nn.Linear(out_channels, out_channels)\n",
    "\n",
    "    def forward(self, x):\n",
    "        x = self.conv(x)\n",
    "        x = x.permute(0, 2, 3, 1)\n",
    "        B, H, W, C = x.shape\n",
    "        x = x.contiguous().view(B * H * W, C)\n",
    "        x = self.norm(x)\n",
    "        x = x.view(B, H, W, C).permute(0, 3, 1, 2)\n",
    "        x = nn.functional.relu(x)\n",
    "        return x\n",
    "\n",
    "# FusionModel\n",
    "class FusionModel(nn.Module):\n",
    "    def __init__(self):\n",
    "        super(FusionModel, self).__init__()\n",
    "        self.swin_transformer_block1 = SwinTransformerBlock(in_channels=3, out_channels=64)\n",
    "        self.convnext_block1 = ConvNeXtBlock(in_channels=3, out_channels=64)\n",
    "        self.spatial_attention_mechanism = nn.Conv2d(in_channels=128, out_channels=1, kernel_size=1)\n",
    "        self.classifier = nn.Linear(224 * 224, 12)\n",
    "\n",
    "    def forward(self, x):\n",
    "        swin_output = self.swin_transformer_block1(x)\n",
    "        convnext_output = self.convnext_block1(x)\n",
    "        combined_output = torch.cat((swin_output, convnext_output), dim=1)\n",
    "        attention_output = self.spatial_attention_mechanism(combined_output)\n",
    "        attention_output = attention_output.view(attention_output.size(0), -1)\n",
    "        output = self.classifier(attention_output)\n",
    "        return output\n"
   ]
  },
  {
   "cell_type": "code",
   "execution_count": 7,
   "metadata": {},
   "outputs": [],
   "source": [
    "file_path = 'Fusion Model.pkl'"
   ]
  },
  {
   "cell_type": "code",
   "execution_count": 8,
   "metadata": {},
   "outputs": [],
   "source": [
    "with open(file_path, 'rb') as file:\n",
    "    model = pickle.load(file)"
   ]
  },
  {
   "cell_type": "code",
   "execution_count": 9,
   "metadata": {},
   "outputs": [
    {
     "name": "stdout",
     "output_type": "stream",
     "text": [
      "FusionModel(\n",
      "  (swin_transformer_block1): SwinTransformerBlock(\n",
      "    (attention): MultiheadAttention(\n",
      "      (out_proj): NonDynamicallyQuantizableLinear(in_features=3, out_features=3, bias=True)\n",
      "    )\n",
      "    (linear1): Linear(in_features=3, out_features=64, bias=True)\n",
      "    (linear2): Linear(in_features=64, out_features=64, bias=True)\n",
      "    (norm1): LayerNorm((64,), eps=1e-05, elementwise_affine=True)\n",
      "    (norm2): LayerNorm((64,), eps=1e-05, elementwise_affine=True)\n",
      "  )\n",
      "  (convnext_block1): ConvNeXtBlock(\n",
      "    (conv): Conv2d(3, 64, kernel_size=(3, 3), stride=(1, 1), padding=(1, 1))\n",
      "    (norm): LayerNorm((64,), eps=1e-05, elementwise_affine=True)\n",
      "    (linear): Linear(in_features=64, out_features=64, bias=True)\n",
      "  )\n",
      "  (spatial_attention_mechanism): Conv2d(128, 1, kernel_size=(1, 1), stride=(1, 1))\n",
      "  (classifier): Linear(in_features=50176, out_features=12, bias=True)\n",
      ")\n"
     ]
    }
   ],
   "source": [
    "# Display the model\n",
    "print(model)"
   ]
  },
  {
   "cell_type": "code",
   "execution_count": 10,
   "metadata": {},
   "outputs": [
    {
     "name": "stdout",
     "output_type": "stream",
     "text": [
      "Total parameters in the model: 613053\n"
     ]
    }
   ],
   "source": [
    "# Calculate the total number of parameters\n",
    "total_params = sum(p.numel() for p in model.parameters())\n",
    "print(f\"Total parameters in the model: {total_params}\")"
   ]
  }
 ],
 "metadata": {
  "kernelspec": {
   "display_name": "Python 3",
   "language": "python",
   "name": "python3"
  },
  "language_info": {
   "codemirror_mode": {
    "name": "ipython",
    "version": 3
   },
   "file_extension": ".py",
   "mimetype": "text/x-python",
   "name": "python",
   "nbconvert_exporter": "python",
   "pygments_lexer": "ipython3",
   "version": "3.12.3"
  }
 },
 "nbformat": 4,
 "nbformat_minor": 2
}
